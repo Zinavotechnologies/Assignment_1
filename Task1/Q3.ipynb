{
 "cells": [
  {
   "cell_type": "code",
   "execution_count": null,
   "metadata": {},
   "outputs": [],
   "source": [
    "'''Write a Python program to accept the user's first and last name and then getting them printed in\n",
    "the the reverse order with a space between first name and last name.'''"
   ]
  },
  {
   "cell_type": "code",
   "execution_count": null,
   "metadata": {},
   "outputs": [],
   "source": [
    "def getUserName():\n",
    "    firstName = ''\n",
    "    lastName = ''\n",
    "    while True:\n",
    "        if len(firstName) == 0 or firstName.isalpha() == False:\n",
    "            firstName = input(\"Enter your first name = \")\n",
    "            if firstName.isalpha() == False:\n",
    "                print(\"Invalid First Name, not a alphabet\")\n",
    "                continue\n",
    "\n",
    "        if len(lastName) == 0 or lastName.isalpha() == False:\n",
    "            lastName = input(\"Enter your last name = \")       \n",
    "            if lastName.isalpha() == False:\n",
    "                print(\"Invalid Last Name, not a alphabet\")\n",
    "                continue\n",
    "                \n",
    "        return firstName + ' ' + lastName"
   ]
  },
  {
   "cell_type": "code",
   "execution_count": 4,
   "metadata": {},
   "outputs": [
    {
     "name": "stdout",
     "output_type": "stream",
     "text": [
      "Enter your first name = John\n",
      "Enter your last name = William\n"
     ]
    },
    {
     "data": {
      "text/plain": [
       "'mailliW nhoJ'"
      ]
     },
     "execution_count": 4,
     "metadata": {},
     "output_type": "execute_result"
    }
   ],
   "source": [
    "getUserName()[-1::-1]"
   ]
  },
  {
   "cell_type": "code",
   "execution_count": 5,
   "metadata": {},
   "outputs": [
    {
     "name": "stdout",
     "output_type": "stream",
     "text": [
      "Enter your first name = Justin 1\n",
      "Invalid First Name, not a alphabet\n",
      "Enter your first name = Justin\n",
      "Enter your last name = Xavier2\n",
      "Invalid Last Name, not a alphabet\n",
      "Enter your last name = Xavier\n"
     ]
    },
    {
     "data": {
      "text/plain": [
       "'reivaX nitsuJ'"
      ]
     },
     "execution_count": 5,
     "metadata": {},
     "output_type": "execute_result"
    }
   ],
   "source": [
    "getUserName()[-1::-1]"
   ]
  },
  {
   "cell_type": "code",
   "execution_count": null,
   "metadata": {},
   "outputs": [],
   "source": []
  }
 ],
 "metadata": {
  "kernelspec": {
   "display_name": "Python 3",
   "language": "python",
   "name": "python3"
  },
  "language_info": {
   "codemirror_mode": {
    "name": "ipython",
    "version": 3
   },
   "file_extension": ".py",
   "mimetype": "text/x-python",
   "name": "python",
   "nbconvert_exporter": "python",
   "pygments_lexer": "ipython3",
   "version": "3.6.5"
  }
 },
 "nbformat": 4,
 "nbformat_minor": 2
}
